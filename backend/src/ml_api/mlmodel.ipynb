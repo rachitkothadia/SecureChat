{
 "cells": [
  {
   "cell_type": "code",
   "execution_count": 5,
   "metadata": {},
   "outputs": [],
   "source": [
    "# Import necessary libraries\n",
    "import pandas as pd\n",
    "import numpy as np\n",
    "import nltk\n",
    "import pickle\n",
    "import matplotlib.pyplot as plt\n",
    "import seaborn as sns\n",
    "\n",
    "from sklearn.feature_extraction.text import TfidfVectorizer\n",
    "from sklearn.linear_model import LogisticRegression, SGDClassifier\n",
    "from sklearn.svm import LinearSVC\n",
    "from sklearn.naive_bayes import MultinomialNB\n",
    "from sklearn.tree import DecisionTreeClassifier\n",
    "from sklearn.ensemble import AdaBoostClassifier, BaggingClassifier\n",
    "from sklearn.model_selection import train_test_split, GridSearchCV\n",
    "from sklearn.metrics import accuracy_score, f1_score, precision_score, recall_score, make_scorer\n",
    "from imblearn.over_sampling import SMOTE\n",
    "import nlpaug.augmenter.word as naw"
   ]
  },
  {
   "cell_type": "code",
   "execution_count": 6,
   "metadata": {},
   "outputs": [
    {
     "data": {
      "text/plain": [
       "True"
      ]
     },
     "execution_count": 6,
     "metadata": {},
     "output_type": "execute_result"
    }
   ],
   "source": [
    "# Ensure required downloads for NLTK\n",
    "nltk.download('wordnet', quiet=True)"
   ]
  },
  {
   "cell_type": "code",
   "execution_count": 7,
   "metadata": {},
   "outputs": [],
   "source": [
    "# Load dataset\n",
    "df = pd.read_csv(\"chando_ dataset.csv\")"
   ]
  },
  {
   "cell_type": "code",
   "execution_count": 8,
   "metadata": {},
   "outputs": [],
   "source": [
    "# Data Cleaning\n",
    "def clean_dataset(df):\n",
    "    df.dropna(subset=['headline', 'label'], inplace=True)  # Remove NaN values\n",
    "    df['label'] = df['label'].replace(-1, 1)  # Convert -1 labels to 1\n",
    "    df['tidy_tweet'] = df['headline'].str.replace(r\"[^a-zA-Z#]\", \" \", regex=True)  # Remove special characters\n",
    "    df['tidy_tweet'] = df['tidy_tweet'].apply(lambda x: ' '.join([w for w in x.split() if len(w) > 3]))  # Remove short words\n",
    "\n",
    "    # Lemmatization\n",
    "    lemmatizer = nltk.stem.WordNetLemmatizer()\n",
    "    df['tidy_tweet'] = df['tidy_tweet'].apply(lambda x: ' '.join([lemmatizer.lemmatize(i) for i in x.split()]))\n",
    "\n",
    "    return df\n",
    "\n",
    "df = clean_dataset(df)"
   ]
  },
  {
   "cell_type": "code",
   "execution_count": 9,
   "metadata": {},
   "outputs": [],
   "source": [
    "# Train-test split\n",
    "X_train, X_test, y_train, y_test = train_test_split(df['tidy_tweet'], df['label'], test_size=0.2, random_state=42)"
   ]
  },
  {
   "cell_type": "code",
   "execution_count": 10,
   "metadata": {},
   "outputs": [],
   "source": [
    "# Vectorization using TfidfVectorizer\n",
    "vectorizer = TfidfVectorizer(stop_words='english', max_features=100000)\n",
    "X_train_vec = vectorizer.fit_transform(X_train)\n",
    "X_test_vec = vectorizer.transform(X_test)"
   ]
  },
  {
   "cell_type": "code",
   "execution_count": 11,
   "metadata": {},
   "outputs": [],
   "source": [
    "# Handle class imbalance using SMOTE\n",
    "smote = SMOTE()\n",
    "X_train_resampled, y_train_resampled = smote.fit_resample(X_train_vec, y_train)"
   ]
  },
  {
   "cell_type": "code",
   "execution_count": 12,
   "metadata": {},
   "outputs": [],
   "source": [
    "# Save the vectorizer\n",
    "pickle.dump(vectorizer, open(\"tfidf_vectorizer.pkl\", \"wb\"))"
   ]
  },
  {
   "cell_type": "code",
   "execution_count": 13,
   "metadata": {},
   "outputs": [
    {
     "name": "stderr",
     "output_type": "stream",
     "text": [
      "c:\\Users\\lenovo\\AppData\\Local\\Programs\\Python\\Python313\\Lib\\site-packages\\sklearn\\ensemble\\_weight_boosting.py:527: FutureWarning: The SAMME.R algorithm (the default) is deprecated and will be removed in 1.6. Use the SAMME algorithm to circumvent this warning.\n",
      "  warnings.warn(\n"
     ]
    },
    {
     "name": "stdout",
     "output_type": "stream",
     "text": [
      "            Algorithm  Accuracy  F1 Score  Precision    Recall\n",
      "0           LinearSVC  0.924021  0.868542   0.798838  0.951572\n",
      "1  LogisticRegression  0.957117  0.918364   0.922296  0.914465\n",
      "2       MultinomialNB  0.899303  0.832135   0.742596  0.946226\n",
      "3        DecisionTree  0.906603  0.843915   0.754586  0.957233\n",
      "4            AdaBoost  0.895405  0.759672   0.964199  0.626730\n",
      "5   BaggingClassifier  0.904280  0.841788   0.746232  0.965409\n",
      "6       SGDClassifier  0.938454  0.876744   0.929225  0.829874\n"
     ]
    }
   ],
   "source": [
    "# Define models to train\n",
    "models = {\n",
    "    \"LinearSVC\": LinearSVC(),\n",
    "    \"LogisticRegression\": LogisticRegression(),\n",
    "    \"MultinomialNB\": MultinomialNB(),\n",
    "    \"DecisionTree\": DecisionTreeClassifier(),\n",
    "    \"AdaBoost\": AdaBoostClassifier(),\n",
    "    \"BaggingClassifier\": BaggingClassifier(),\n",
    "    \"SGDClassifier\": SGDClassifier()\n",
    "}\n",
    "\n",
    "# Train models and save them\n",
    "results = []\n",
    "for name, model in models.items():\n",
    "    model.fit(X_train_resampled, y_train_resampled)\n",
    "    pickle.dump(model, open(f\"{name}.pkl\", \"wb\"))\n",
    "    \n",
    "    y_pred = model.predict(X_test_vec)\n",
    "    \n",
    "    results.append({\n",
    "        \"Algorithm\": name,\n",
    "        \"Accuracy\": accuracy_score(y_test, y_pred),\n",
    "        \"F1 Score\": f1_score(y_test, y_pred),\n",
    "        \"Precision\": precision_score(y_test, y_pred),\n",
    "        \"Recall\": recall_score(y_test, y_pred)\n",
    "    })\n",
    "\n",
    "# Convert results to DataFrame\n",
    "results_df = pd.DataFrame(results)\n",
    "print(results_df)"
   ]
  },
  {
   "cell_type": "code",
   "execution_count": 14,
   "metadata": {},
   "outputs": [
    {
     "name": "stderr",
     "output_type": "stream",
     "text": [
      "C:\\Users\\lenovo\\AppData\\Local\\Temp\\ipykernel_26336\\3853516978.py:3: FutureWarning: \n",
      "\n",
      "Passing `palette` without assigning `hue` is deprecated and will be removed in v0.14.0. Assign the `x` variable to `hue` and set `legend=False` for the same effect.\n",
      "\n",
      "  sns.barplot(x=\"Algorithm\", y=\"F1 Score\", data=results_df, palette=\"viridis\")\n"
     ]
    },
    {
     "data": {
      "image/png": "[encoded data removed]",
      "text/plain": [
       "<Figure size 1000x600 with 1 Axes>"
      ]
     },
     "metadata": {},
     "output_type": "display_data"
    }
   ],
   "source": [
    "# Visualization\n",
    "plt.figure(figsize=(10, 6))\n",
    "sns.barplot(x=\"Algorithm\", y=\"F1 Score\", data=results_df, palette=\"viridis\")\n",
    "plt.xticks(rotation=15)\n",
    "plt.title(\"Model Performance Comparison\")\n",
    "plt.show()"
   ]
  },
  {
   "cell_type": "code",
   "execution_count": 15,
   "metadata": {},
   "outputs": [
    {
     "name": "stdout",
     "output_type": "stream",
     "text": [
      "Prediction: non-bullying\n"
     ]
    }
   ],
   "source": [
    "# Load and Test Model\n",
    "model_name = \"LinearSVC.pkl\"\n",
    "loaded_model = pickle.load(open(model_name, \"rb\"))\n",
    "\n",
    "# Sample Prediction\n",
    "sample_text = [\"You are so beautiful\"]\n",
    "sample_vectorized = vectorizer.transform(sample_text)\n",
    "prediction = loaded_model.predict(sample_vectorized)\n",
    "\n",
    "print(\"Prediction:\", \"bullying\" if prediction == 1 else \"non-bullying\")\n",
    "\n",
    "\n"
   ]
  },
  {
   "cell_type": "code",
   "execution_count": 16,
   "metadata": {},
   "outputs": [
    {
     "name": "stdout",
     "output_type": "stream",
     "text": [
      "Best Params: {'C': 1, 'max_iter': 100}\n",
      "F1 Score: 0.9570579367589244\n",
      "Accuracy: 0.9571167883211679\n",
      "Precision: 0.9570111885022728\n",
      "Recall: 0.9571167883211679\n"
     ]
    }
   ],
   "source": [
    "# Hyperparameter tuning function\n",
    "def tune_model(clf, param_grid):\n",
    "    scorer = make_scorer(f1_score, average='weighted')\n",
    "    grid_search = GridSearchCV(clf, param_grid, scoring=scorer, cv=5, n_jobs=-1)\n",
    "    grid_search.fit(X_train_resampled, y_train_resampled)\n",
    "    \n",
    "    best_model = grid_search.best_estimator_\n",
    "    y_pred = best_model.predict(X_test_vec)\n",
    "    \n",
    "    print(\"Best Params:\", grid_search.best_params_)\n",
    "    print(\"F1 Score:\", f1_score(y_test, y_pred, average='weighted'))\n",
    "    print(\"Accuracy:\", accuracy_score(y_test, y_pred))\n",
    "    print(\"Precision:\", precision_score(y_test, y_pred, average='weighted'))\n",
    "    print(\"Recall:\", recall_score(y_test, y_pred, average='weighted'))\n",
    "    \n",
    "    return best_model\n",
    "\n",
    "# Example tuning on LogisticRegression\n",
    "logreg_params = {\"C\": [0.1, 1, 10], \"max_iter\": [100, 200]}\n",
    "best_logreg = tune_model(LogisticRegression(), logreg_params)"
   ]
  }
 ],
 "metadata": {
  "kernelspec": {
   "display_name": "Python 3",
   "language": "python",
   "name": "python3"
  },
  "language_info": {
   "codemirror_mode": {
    "name": "ipython",
    "version": 3
   },
   "file_extension": ".py",
   "mimetype": "text/x-python",
   "name": "python",
   "nbconvert_exporter": "python",
   "pygments_lexer": "ipython3",
   "version": "3.13.2"
  }
 },
 "nbformat": 4,
 "nbformat_minor": 2
}
